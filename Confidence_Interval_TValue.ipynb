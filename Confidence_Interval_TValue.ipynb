{
 "cells": [
  {
   "cell_type": "markdown",
   "metadata": {},
   "source": [
    "For this example, let’s take a sample data set containing 5 observations of heights: – 160, 165, 170, 175, 180.\n",
    "The mean of the sample: 170.\n",
    "The standard deviation of sample: 7.071.\n",
    "n = 5\n",
    "\n",
    "So look up the T-Table for \n",
    "degree of freedom = 5-1 = 4 \n",
    "alpha = (1-0.95)/2 = 0.025."
   ]
  },
  {
   "cell_type": "code",
   "execution_count": 9,
   "metadata": {
    "ExecuteTime": {
     "end_time": "2021-08-17T00:19:10.025710Z",
     "start_time": "2021-08-17T00:19:10.019805Z"
    }
   },
   "outputs": [
    {
     "name": "stdout",
     "output_type": "stream",
     "text": [
      "4.604094871415897\n"
     ]
    }
   ],
   "source": [
    "from scipy import stats\n",
    "#Studnt, n=999, p<0.05, 2-tail\n",
    "#equivalent to Excel TINV(0.05,999)\n",
    "print(stats.t.ppf(1-0.025, 4))"
   ]
  },
  {
   "cell_type": "code",
   "execution_count": 28,
   "metadata": {
    "ExecuteTime": {
     "end_time": "2021-08-17T00:31:00.628589Z",
     "start_time": "2021-08-17T00:31:00.610273Z"
    }
   },
   "outputs": [],
   "source": [
    "import pandas as pd #### Library for working with large datsets\n",
    "import numpy as np #### Library for performing numerical calculations\n",
    "import matplotlib.pyplot as plt #### Baasic Library for plotting graphs\n",
    "#### Configuring Matplotlib to show Plots inline\n",
    "%matplotlib inline \n",
    "plt.rcParams['figure.figsize'] = (12, 12) ### Setting the size of the Plots\n",
    "from math import sqrt\n"
   ]
  },
  {
   "cell_type": "code",
   "execution_count": 13,
   "metadata": {
    "ExecuteTime": {
     "end_time": "2021-08-17T00:23:37.990452Z",
     "start_time": "2021-08-17T00:23:37.983125Z"
    }
   },
   "outputs": [],
   "source": [
    "#### Loading the Data\n",
    "data = pd.read_csv('Fish_dataset.csv')"
   ]
  },
  {
   "cell_type": "code",
   "execution_count": 14,
   "metadata": {
    "ExecuteTime": {
     "end_time": "2021-08-17T00:23:52.789858Z",
     "start_time": "2021-08-17T00:23:52.763160Z"
    }
   },
   "outputs": [
    {
     "name": "stdout",
     "output_type": "stream",
     "text": [
      "<class 'pandas.core.frame.DataFrame'>\n",
      "RangeIndex: 159 entries, 0 to 158\n",
      "Data columns (total 7 columns):\n",
      " #   Column   Non-Null Count  Dtype  \n",
      "---  ------   --------------  -----  \n",
      " 0   Species  159 non-null    object \n",
      " 1   Weight   159 non-null    float64\n",
      " 2   Length1  159 non-null    float64\n",
      " 3   Length2  159 non-null    float64\n",
      " 4   Length3  159 non-null    float64\n",
      " 5   Height   159 non-null    float64\n",
      " 6   Width    159 non-null    float64\n",
      "dtypes: float64(6), object(1)\n",
      "memory usage: 8.8+ KB\n"
     ]
    }
   ],
   "source": [
    "data.info()"
   ]
  },
  {
   "cell_type": "code",
   "execution_count": 16,
   "metadata": {
    "ExecuteTime": {
     "end_time": "2021-08-17T00:25:22.219783Z",
     "start_time": "2021-08-17T00:25:22.181364Z"
    },
    "collapsed": true
   },
   "outputs": [
    {
     "name": "stdout",
     "output_type": "stream",
     "text": [
      "     Bream  Parkki  Perch  Pike  Roach  Smelt  Whitefish\n",
      "0        1       0      0     0      0      0          0\n",
      "1        1       0      0     0      0      0          0\n",
      "2        1       0      0     0      0      0          0\n",
      "3        1       0      0     0      0      0          0\n",
      "4        1       0      0     0      0      0          0\n",
      "..     ...     ...    ...   ...    ...    ...        ...\n",
      "154      0       0      0     0      0      1          0\n",
      "155      0       0      0     0      0      1          0\n",
      "156      0       0      0     0      0      1          0\n",
      "157      0       0      0     0      0      1          0\n",
      "158      0       0      0     0      0      1          0\n",
      "\n",
      "[159 rows x 7 columns]\n",
      "     Weight  Length1  Length2  Length3   Height   Width  Bream  Parkki  Perch  \\\n",
      "0     242.0     23.2     25.4     30.0  11.5200  4.0200      1       0      0   \n",
      "1     290.0     24.0     26.3     31.2  12.4800  4.3056      1       0      0   \n",
      "2     340.0     23.9     26.5     31.1  12.3778  4.6961      1       0      0   \n",
      "3     363.0     26.3     29.0     33.5  12.7300  4.4555      1       0      0   \n",
      "4     430.0     26.5     29.0     34.0  12.4440  5.1340      1       0      0   \n",
      "..      ...      ...      ...      ...      ...     ...    ...     ...    ...   \n",
      "154    12.2     11.5     12.2     13.4   2.0904  1.3936      0       0      0   \n",
      "155    13.4     11.7     12.4     13.5   2.4300  1.2690      0       0      0   \n",
      "156    12.2     12.1     13.0     13.8   2.2770  1.2558      0       0      0   \n",
      "157    19.7     13.2     14.3     15.2   2.8728  2.0672      0       0      0   \n",
      "158    19.9     13.8     15.0     16.2   2.9322  1.8792      0       0      0   \n",
      "\n",
      "     Pike  Roach  Smelt  Whitefish  \n",
      "0       0      0      0          0  \n",
      "1       0      0      0          0  \n",
      "2       0      0      0          0  \n",
      "3       0      0      0          0  \n",
      "4       0      0      0          0  \n",
      "..    ...    ...    ...        ...  \n",
      "154     0      0      1          0  \n",
      "155     0      0      1          0  \n",
      "156     0      0      1          0  \n",
      "157     0      0      1          0  \n",
      "158     0      0      1          0  \n",
      "\n",
      "[159 rows x 13 columns]\n"
     ]
    }
   ],
   "source": [
    "one_hot_data = pd.get_dummies(data['Species'])\n",
    "print(one_hot_data)\n",
    "data = data.drop('Species',1)\n",
    "#### and add the new dataframe to our existing dataframe\n",
    "data = data.join(one_hot_data)\n",
    "print(data)"
   ]
  },
  {
   "cell_type": "code",
   "execution_count": 17,
   "metadata": {
    "ExecuteTime": {
     "end_time": "2021-08-17T00:25:41.776754Z",
     "start_time": "2021-08-17T00:25:41.726167Z"
    }
   },
   "outputs": [
    {
     "data": {
      "text/html": [
       "<div>\n",
       "<style scoped>\n",
       "    .dataframe tbody tr th:only-of-type {\n",
       "        vertical-align: middle;\n",
       "    }\n",
       "\n",
       "    .dataframe tbody tr th {\n",
       "        vertical-align: top;\n",
       "    }\n",
       "\n",
       "    .dataframe thead th {\n",
       "        text-align: right;\n",
       "    }\n",
       "</style>\n",
       "<table border=\"1\" class=\"dataframe\">\n",
       "  <thead>\n",
       "    <tr style=\"text-align: right;\">\n",
       "      <th></th>\n",
       "      <th>Weight</th>\n",
       "      <th>Length1</th>\n",
       "      <th>Length2</th>\n",
       "      <th>Length3</th>\n",
       "      <th>Height</th>\n",
       "      <th>Width</th>\n",
       "      <th>Bream</th>\n",
       "      <th>Parkki</th>\n",
       "      <th>Perch</th>\n",
       "      <th>Pike</th>\n",
       "      <th>Roach</th>\n",
       "      <th>Smelt</th>\n",
       "      <th>Whitefish</th>\n",
       "    </tr>\n",
       "  </thead>\n",
       "  <tbody>\n",
       "    <tr>\n",
       "      <th>count</th>\n",
       "      <td>159.000000</td>\n",
       "      <td>159.000000</td>\n",
       "      <td>159.000000</td>\n",
       "      <td>159.000000</td>\n",
       "      <td>159.000000</td>\n",
       "      <td>159.000000</td>\n",
       "      <td>159.000000</td>\n",
       "      <td>159.000000</td>\n",
       "      <td>159.000000</td>\n",
       "      <td>159.000000</td>\n",
       "      <td>159.000000</td>\n",
       "      <td>159.000000</td>\n",
       "      <td>159.000000</td>\n",
       "    </tr>\n",
       "    <tr>\n",
       "      <th>mean</th>\n",
       "      <td>398.326415</td>\n",
       "      <td>26.247170</td>\n",
       "      <td>28.415723</td>\n",
       "      <td>31.227044</td>\n",
       "      <td>8.970994</td>\n",
       "      <td>4.417486</td>\n",
       "      <td>0.220126</td>\n",
       "      <td>0.069182</td>\n",
       "      <td>0.352201</td>\n",
       "      <td>0.106918</td>\n",
       "      <td>0.125786</td>\n",
       "      <td>0.088050</td>\n",
       "      <td>0.037736</td>\n",
       "    </tr>\n",
       "    <tr>\n",
       "      <th>std</th>\n",
       "      <td>357.978317</td>\n",
       "      <td>9.996441</td>\n",
       "      <td>10.716328</td>\n",
       "      <td>11.610246</td>\n",
       "      <td>4.286208</td>\n",
       "      <td>1.685804</td>\n",
       "      <td>0.415640</td>\n",
       "      <td>0.254566</td>\n",
       "      <td>0.479165</td>\n",
       "      <td>0.309986</td>\n",
       "      <td>0.332656</td>\n",
       "      <td>0.284263</td>\n",
       "      <td>0.191159</td>\n",
       "    </tr>\n",
       "    <tr>\n",
       "      <th>min</th>\n",
       "      <td>0.000000</td>\n",
       "      <td>7.500000</td>\n",
       "      <td>8.400000</td>\n",
       "      <td>8.800000</td>\n",
       "      <td>1.728400</td>\n",
       "      <td>1.047600</td>\n",
       "      <td>0.000000</td>\n",
       "      <td>0.000000</td>\n",
       "      <td>0.000000</td>\n",
       "      <td>0.000000</td>\n",
       "      <td>0.000000</td>\n",
       "      <td>0.000000</td>\n",
       "      <td>0.000000</td>\n",
       "    </tr>\n",
       "    <tr>\n",
       "      <th>25%</th>\n",
       "      <td>120.000000</td>\n",
       "      <td>19.050000</td>\n",
       "      <td>21.000000</td>\n",
       "      <td>23.150000</td>\n",
       "      <td>5.944800</td>\n",
       "      <td>3.385650</td>\n",
       "      <td>0.000000</td>\n",
       "      <td>0.000000</td>\n",
       "      <td>0.000000</td>\n",
       "      <td>0.000000</td>\n",
       "      <td>0.000000</td>\n",
       "      <td>0.000000</td>\n",
       "      <td>0.000000</td>\n",
       "    </tr>\n",
       "    <tr>\n",
       "      <th>50%</th>\n",
       "      <td>273.000000</td>\n",
       "      <td>25.200000</td>\n",
       "      <td>27.300000</td>\n",
       "      <td>29.400000</td>\n",
       "      <td>7.786000</td>\n",
       "      <td>4.248500</td>\n",
       "      <td>0.000000</td>\n",
       "      <td>0.000000</td>\n",
       "      <td>0.000000</td>\n",
       "      <td>0.000000</td>\n",
       "      <td>0.000000</td>\n",
       "      <td>0.000000</td>\n",
       "      <td>0.000000</td>\n",
       "    </tr>\n",
       "    <tr>\n",
       "      <th>75%</th>\n",
       "      <td>650.000000</td>\n",
       "      <td>32.700000</td>\n",
       "      <td>35.500000</td>\n",
       "      <td>39.650000</td>\n",
       "      <td>12.365900</td>\n",
       "      <td>5.584500</td>\n",
       "      <td>0.000000</td>\n",
       "      <td>0.000000</td>\n",
       "      <td>1.000000</td>\n",
       "      <td>0.000000</td>\n",
       "      <td>0.000000</td>\n",
       "      <td>0.000000</td>\n",
       "      <td>0.000000</td>\n",
       "    </tr>\n",
       "    <tr>\n",
       "      <th>max</th>\n",
       "      <td>1650.000000</td>\n",
       "      <td>59.000000</td>\n",
       "      <td>63.400000</td>\n",
       "      <td>68.000000</td>\n",
       "      <td>18.957000</td>\n",
       "      <td>8.142000</td>\n",
       "      <td>1.000000</td>\n",
       "      <td>1.000000</td>\n",
       "      <td>1.000000</td>\n",
       "      <td>1.000000</td>\n",
       "      <td>1.000000</td>\n",
       "      <td>1.000000</td>\n",
       "      <td>1.000000</td>\n",
       "    </tr>\n",
       "  </tbody>\n",
       "</table>\n",
       "</div>"
      ],
      "text/plain": [
       "            Weight     Length1     Length2     Length3      Height  \\\n",
       "count   159.000000  159.000000  159.000000  159.000000  159.000000   \n",
       "mean    398.326415   26.247170   28.415723   31.227044    8.970994   \n",
       "std     357.978317    9.996441   10.716328   11.610246    4.286208   \n",
       "min       0.000000    7.500000    8.400000    8.800000    1.728400   \n",
       "25%     120.000000   19.050000   21.000000   23.150000    5.944800   \n",
       "50%     273.000000   25.200000   27.300000   29.400000    7.786000   \n",
       "75%     650.000000   32.700000   35.500000   39.650000   12.365900   \n",
       "max    1650.000000   59.000000   63.400000   68.000000   18.957000   \n",
       "\n",
       "            Width       Bream      Parkki       Perch        Pike       Roach  \\\n",
       "count  159.000000  159.000000  159.000000  159.000000  159.000000  159.000000   \n",
       "mean     4.417486    0.220126    0.069182    0.352201    0.106918    0.125786   \n",
       "std      1.685804    0.415640    0.254566    0.479165    0.309986    0.332656   \n",
       "min      1.047600    0.000000    0.000000    0.000000    0.000000    0.000000   \n",
       "25%      3.385650    0.000000    0.000000    0.000000    0.000000    0.000000   \n",
       "50%      4.248500    0.000000    0.000000    0.000000    0.000000    0.000000   \n",
       "75%      5.584500    0.000000    0.000000    1.000000    0.000000    0.000000   \n",
       "max      8.142000    1.000000    1.000000    1.000000    1.000000    1.000000   \n",
       "\n",
       "            Smelt   Whitefish  \n",
       "count  159.000000  159.000000  \n",
       "mean     0.088050    0.037736  \n",
       "std      0.284263    0.191159  \n",
       "min      0.000000    0.000000  \n",
       "25%      0.000000    0.000000  \n",
       "50%      0.000000    0.000000  \n",
       "75%      0.000000    0.000000  \n",
       "max      1.000000    1.000000  "
      ]
     },
     "execution_count": 17,
     "metadata": {},
     "output_type": "execute_result"
    }
   ],
   "source": [
    "data.describe()"
   ]
  },
  {
   "cell_type": "code",
   "execution_count": 18,
   "metadata": {
    "ExecuteTime": {
     "end_time": "2021-08-17T00:26:55.439578Z",
     "start_time": "2021-08-17T00:26:54.884110Z"
    }
   },
   "outputs": [],
   "source": [
    "Y = data['Weight'].values\n",
    "\n",
    "# = data[['GrLivArea','GarageCars','GarageArea','TotalBsmtSF','1stFlrSF',\n",
    "#        'FullBath','TotRmsAbvGrd','OverallQual','MasVnrArea','YearRemodAdd']]\n",
    "X = data\n",
    "X = X.drop('Weight',1)\n",
    "\n",
    "X = X.fillna(0)\n",
    "from sklearn.model_selection import train_test_split\n",
    "X_train, X_test, y_train, y_test = train_test_split(X, Y, test_size = 0.2, random_state = 0)"
   ]
  },
  {
   "cell_type": "code",
   "execution_count": 19,
   "metadata": {
    "ExecuteTime": {
     "end_time": "2021-08-17T00:27:08.486057Z",
     "start_time": "2021-08-17T00:27:08.474099Z"
    }
   },
   "outputs": [],
   "source": [
    "from sklearn.preprocessing import StandardScaler\n",
    "sc_X = StandardScaler()\n",
    "X_train = sc_X.fit_transform(X_train)\n",
    "X_test = sc_X.transform(X_test)"
   ]
  },
  {
   "cell_type": "code",
   "execution_count": 21,
   "metadata": {
    "ExecuteTime": {
     "end_time": "2021-08-17T00:27:23.043836Z",
     "start_time": "2021-08-17T00:27:22.996237Z"
    }
   },
   "outputs": [
    {
     "data": {
      "text/plain": [
       "LinearRegression()"
      ]
     },
     "execution_count": 21,
     "metadata": {},
     "output_type": "execute_result"
    }
   ],
   "source": [
    "# Fitting the Linear Regression Model to the dataset\n",
    "from sklearn.linear_model import LinearRegression\n",
    "regressor = LinearRegression()\n",
    "regressor.fit(X_train, y_train)"
   ]
  },
  {
   "cell_type": "code",
   "execution_count": 22,
   "metadata": {
    "ExecuteTime": {
     "end_time": "2021-08-17T00:27:48.892921Z",
     "start_time": "2021-08-17T00:27:48.887220Z"
    }
   },
   "outputs": [],
   "source": [
    "y_pred = regressor.predict(X_test)"
   ]
  },
  {
   "cell_type": "code",
   "execution_count": 23,
   "metadata": {
    "ExecuteTime": {
     "end_time": "2021-08-17T00:27:50.912029Z",
     "start_time": "2021-08-17T00:27:50.893604Z"
    }
   },
   "outputs": [
    {
     "name": "stdout",
     "output_type": "stream",
     "text": [
      "17086.819831985566\n",
      "130.71656295965545\n"
     ]
    }
   ],
   "source": [
    "#### Error Metrics\n",
    "from sklearn.metrics import mean_squared_error\n",
    "from math import sqrt\n",
    "\n",
    "mse = mean_squared_error(y_test, y_pred)\n",
    "print(mse)\n",
    "rms = sqrt(mean_squared_error(y_test, y_pred))\n",
    "print(rms)"
   ]
  },
  {
   "cell_type": "code",
   "execution_count": 24,
   "metadata": {
    "ExecuteTime": {
     "end_time": "2021-08-17T00:28:03.011327Z",
     "start_time": "2021-08-17T00:28:03.008096Z"
    }
   },
   "outputs": [
    {
     "name": "stdout",
     "output_type": "stream",
     "text": [
      "0.9102350316202584\n"
     ]
    }
   ],
   "source": [
    "#### R2 Error\n",
    "from sklearn.metrics import r2_score\n",
    "print(r2_score(y_test, y_pred))"
   ]
  },
  {
   "cell_type": "code",
   "execution_count": 33,
   "metadata": {
    "ExecuteTime": {
     "end_time": "2021-08-17T00:33:25.137596Z",
     "start_time": "2021-08-17T00:33:25.130084Z"
    }
   },
   "outputs": [],
   "source": [
    "y_error = (y_test - y_pred)\n",
    "y_error = y_error*y_error\n",
    "y_error = np.sqrt(y_error)"
   ]
  },
  {
   "cell_type": "code",
   "execution_count": null,
   "metadata": {},
   "outputs": [],
   "source": [
    "For this example, let’s take a sample data set containing 5 observations of heights: – 160, 165, 170, 175, 180.\n",
    "The mean of the sample: 170.\n",
    "The standard deviation of sample: 7.071.\n",
    "n = 5\n",
    "\n",
    "So look up the T-Table for \n",
    "degree of freedom = 5-1 = 4 \n",
    "alpha = (1-0.95)/2 = 0.025.\n",
    "\n",
    "Confidence Intervals = {170 – 2.776 (7.071/sqrt(5)), 170 + 2.776 (7.071/sqrt(5))}"
   ]
  },
  {
   "cell_type": "code",
   "execution_count": 38,
   "metadata": {
    "ExecuteTime": {
     "end_time": "2021-08-17T00:37:48.165698Z",
     "start_time": "2021-08-17T00:37:48.161200Z"
    }
   },
   "outputs": [],
   "source": [
    "n = len(y_error)\n",
    "mean = np.mean(y_error)\n",
    "sd = np.std(y_error)\n",
    "alpha = (1-0.95)/2"
   ]
  },
  {
   "cell_type": "code",
   "execution_count": 39,
   "metadata": {
    "ExecuteTime": {
     "end_time": "2021-08-17T00:37:49.816750Z",
     "start_time": "2021-08-17T00:37:49.809380Z"
    }
   },
   "outputs": [
    {
     "name": "stdout",
     "output_type": "stream",
     "text": [
      "2.0395134463964077\n"
     ]
    }
   ],
   "source": [
    "t = stats.t.ppf(1-alpha, n-1)\n",
    "print(t)"
   ]
  },
  {
   "cell_type": "code",
   "execution_count": 44,
   "metadata": {
    "ExecuteTime": {
     "end_time": "2021-08-17T03:11:40.466815Z",
     "start_time": "2021-08-17T03:11:40.455157Z"
    }
   },
   "outputs": [
    {
     "name": "stdout",
     "output_type": "stream",
     "text": [
      "54.08085234654325 123.31677713832542\n"
     ]
    }
   ],
   "source": [
    "interval = (t*(sd/sqrt(n)))\n",
    "CI_LB = mean - interval\n",
    "CI_UB = mean + interval\n",
    "print(CI_LB, CI_UB)"
   ]
  },
  {
   "cell_type": "code",
   "execution_count": 47,
   "metadata": {
    "ExecuteTime": {
     "end_time": "2021-08-17T03:14:49.608428Z",
     "start_time": "2021-08-17T03:14:49.364879Z"
    },
    "collapsed": true
   },
   "outputs": [
    {
     "data": {
      "text/plain": [
       "<matplotlib.legend.Legend at 0x1b6e55fc8e0>"
      ]
     },
     "execution_count": 47,
     "metadata": {},
     "output_type": "execute_result"
    },
    {
     "data": {
      "image/png": "[encoded data removed]",
      "text/plain": [
       "<Figure size 864x864 with 1 Axes>"
      ]
     },
     "metadata": {
      "needs_background": "light"
     },
     "output_type": "display_data"
    }
   ],
   "source": [
    "plt.fill_between(np.arange(0,len(y_test),1),y_pred+interval, y_pred-interval, color='b',label='Confidence Interval')\n",
    "plt.plot(y_pred, label='Predictions')\n",
    "plt.plot(y_test, label='Actuals')\n",
    "plt.legend(loc=\"upper left\")\n"
   ]
  },
  {
   "cell_type": "code",
   "execution_count": 49,
   "metadata": {
    "ExecuteTime": {
     "end_time": "2021-08-17T06:48:22.130406Z",
     "start_time": "2021-08-17T06:48:21.967574Z"
    }
   },
   "outputs": [],
   "source": [
    "from sklearn.ensemble import IsolationForest\n",
    "from sklearn.metrics import mean_absolute_error\n",
    "iso = IsolationForest(contamination='auto',random_state=42)\n",
    "y_pred = iso.fit_predict(X_train,y_train)"
   ]
  },
  {
   "cell_type": "code",
   "execution_count": 51,
   "metadata": {
    "ExecuteTime": {
     "end_time": "2021-08-17T06:49:21.006036Z",
     "start_time": "2021-08-17T06:49:20.990966Z"
    }
   },
   "outputs": [],
   "source": [
    "mask = y_pred!= -1 "
   ]
  },
  {
   "cell_type": "code",
   "execution_count": 52,
   "metadata": {
    "ExecuteTime": {
     "end_time": "2021-08-17T06:50:18.175628Z",
     "start_time": "2021-08-17T06:50:18.157081Z"
    }
   },
   "outputs": [],
   "source": [
    "X_train1, y_train1 = X_train[mask,:],y_train[mask]"
   ]
  },
  {
   "cell_type": "code",
   "execution_count": 55,
   "metadata": {
    "ExecuteTime": {
     "end_time": "2021-08-17T06:53:31.622556Z",
     "start_time": "2021-08-17T06:53:31.611134Z"
    }
   },
   "outputs": [
    {
     "name": "stdout",
     "output_type": "stream",
     "text": [
      "60.7329609345903\n",
      "88.69881474243434\n",
      "43.078041493284275\n",
      "89.04328917732279\n"
     ]
    }
   ],
   "source": [
    "regressor.fit(X_train, y_train)\n",
    "y_pred = regressor.predict(X_train)\n",
    "print(mean_absolute_error(y_pred,y_train))\n",
    "\n",
    "y_pred = regressor.predict(X_test)\n",
    "print(mean_absolute_error(y_pred,y_test))\n",
    "\n",
    "regressor.fit(X_train1, y_train1)\n",
    "y_pred = regressor.predict(X_train1)\n",
    "print(mean_absolute_error(y_pred,y_train1))\n",
    "\n",
    "y_pred = regressor.predict(X_test)\n",
    "print(mean_absolute_error(y_pred,y_test))\n"
   ]
  }
 ],
 "metadata": {
  "kernelspec": {
   "display_name": "Python 3",
   "language": "python",
   "name": "python3"
  },
  "language_info": {
   "codemirror_mode": {
    "name": "ipython",
    "version": 3
   },
   "file_extension": ".py",
   "mimetype": "text/x-python",
   "name": "python",
   "nbconvert_exporter": "python",
   "pygments_lexer": "ipython3",
   "version": "3.8.5"
  }
 },
 "nbformat": 4,
 "nbformat_minor": 4
}
